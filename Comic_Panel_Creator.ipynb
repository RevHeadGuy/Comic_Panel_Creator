{
  "nbformat": 4,
  "nbformat_minor": 0,
  "metadata": {
    "colab": {
      "provenance": [],
      "authorship_tag": "ABX9TyNPFcWsQuCPEbMT9hMcL+CY",
      "include_colab_link": true
    },
    "kernelspec": {
      "name": "python3",
      "display_name": "Python 3"
    },
    "language_info": {
      "name": "python"
    }
  },
  "cells": [
    {
      "cell_type": "markdown",
      "metadata": {
        "id": "view-in-github",
        "colab_type": "text"
      },
      "source": [
        "<a href=\"https://colab.research.google.com/github/RevHeadGuy/Comic_Panel_Creator/blob/main/Comic_Panel_Creator.ipynb\" target=\"_parent\"><img src=\"https://colab.research.google.com/assets/colab-badge.svg\" alt=\"Open In Colab\"/></a>"
      ]
    },
    {
      "cell_type": "code",
      "execution_count": null,
      "metadata": {
        "colab": {
          "base_uri": "https://localhost:8080/"
        },
        "id": "lDddbGD-F0sZ",
        "outputId": "613a6526-1051-4959-d88f-0514a52bed86"
      },
      "outputs": [
        {
          "output_type": "stream",
          "name": "stdout",
          "text": [
            "Requirement already satisfied: openai in /usr/local/lib/python3.11/dist-packages (1.86.0)\n",
            "Requirement already satisfied: gradio in /usr/local/lib/python3.11/dist-packages (5.31.0)\n",
            "Requirement already satisfied: requests in /usr/local/lib/python3.11/dist-packages (2.32.3)\n",
            "Requirement already satisfied: pillow in /usr/local/lib/python3.11/dist-packages (11.2.1)\n",
            "Collecting fpdf\n",
            "  Downloading fpdf-1.7.2.tar.gz (39 kB)\n",
            "  Preparing metadata (setup.py) ... \u001b[?25l\u001b[?25hdone\n",
            "Collecting gTTS\n",
            "  Downloading gTTS-2.5.4-py3-none-any.whl.metadata (4.1 kB)\n",
            "Requirement already satisfied: anyio<5,>=3.5.0 in /usr/local/lib/python3.11/dist-packages (from openai) (4.9.0)\n",
            "Requirement already satisfied: distro<2,>=1.7.0 in /usr/local/lib/python3.11/dist-packages (from openai) (1.9.0)\n",
            "Requirement already satisfied: httpx<1,>=0.23.0 in /usr/local/lib/python3.11/dist-packages (from openai) (0.28.1)\n",
            "Requirement already satisfied: jiter<1,>=0.4.0 in /usr/local/lib/python3.11/dist-packages (from openai) (0.10.0)\n",
            "Requirement already satisfied: pydantic<3,>=1.9.0 in /usr/local/lib/python3.11/dist-packages (from openai) (2.11.5)\n",
            "Requirement already satisfied: sniffio in /usr/local/lib/python3.11/dist-packages (from openai) (1.3.1)\n",
            "Requirement already satisfied: tqdm>4 in /usr/local/lib/python3.11/dist-packages (from openai) (4.67.1)\n",
            "Requirement already satisfied: typing-extensions<5,>=4.11 in /usr/local/lib/python3.11/dist-packages (from openai) (4.14.0)\n",
            "Requirement already satisfied: aiofiles<25.0,>=22.0 in /usr/local/lib/python3.11/dist-packages (from gradio) (24.1.0)\n",
            "Requirement already satisfied: fastapi<1.0,>=0.115.2 in /usr/local/lib/python3.11/dist-packages (from gradio) (0.115.12)\n",
            "Requirement already satisfied: ffmpy in /usr/local/lib/python3.11/dist-packages (from gradio) (0.6.0)\n",
            "Requirement already satisfied: gradio-client==1.10.1 in /usr/local/lib/python3.11/dist-packages (from gradio) (1.10.1)\n",
            "Requirement already satisfied: groovy~=0.1 in /usr/local/lib/python3.11/dist-packages (from gradio) (0.1.2)\n",
            "Requirement already satisfied: huggingface-hub>=0.28.1 in /usr/local/lib/python3.11/dist-packages (from gradio) (0.33.0)\n",
            "Requirement already satisfied: jinja2<4.0 in /usr/local/lib/python3.11/dist-packages (from gradio) (3.1.6)\n",
            "Requirement already satisfied: markupsafe<4.0,>=2.0 in /usr/local/lib/python3.11/dist-packages (from gradio) (3.0.2)\n",
            "Requirement already satisfied: numpy<3.0,>=1.0 in /usr/local/lib/python3.11/dist-packages (from gradio) (2.0.2)\n",
            "Requirement already satisfied: orjson~=3.0 in /usr/local/lib/python3.11/dist-packages (from gradio) (3.10.18)\n",
            "Requirement already satisfied: packaging in /usr/local/lib/python3.11/dist-packages (from gradio) (24.2)\n",
            "Requirement already satisfied: pandas<3.0,>=1.0 in /usr/local/lib/python3.11/dist-packages (from gradio) (2.2.2)\n",
            "Requirement already satisfied: pydub in /usr/local/lib/python3.11/dist-packages (from gradio) (0.25.1)\n",
            "Requirement already satisfied: python-multipart>=0.0.18 in /usr/local/lib/python3.11/dist-packages (from gradio) (0.0.20)\n",
            "Requirement already satisfied: pyyaml<7.0,>=5.0 in /usr/local/lib/python3.11/dist-packages (from gradio) (6.0.2)\n",
            "Requirement already satisfied: ruff>=0.9.3 in /usr/local/lib/python3.11/dist-packages (from gradio) (0.11.13)\n",
            "Requirement already satisfied: safehttpx<0.2.0,>=0.1.6 in /usr/local/lib/python3.11/dist-packages (from gradio) (0.1.6)\n",
            "Requirement already satisfied: semantic-version~=2.0 in /usr/local/lib/python3.11/dist-packages (from gradio) (2.10.0)\n",
            "Requirement already satisfied: starlette<1.0,>=0.40.0 in /usr/local/lib/python3.11/dist-packages (from gradio) (0.46.2)\n",
            "Requirement already satisfied: tomlkit<0.14.0,>=0.12.0 in /usr/local/lib/python3.11/dist-packages (from gradio) (0.13.3)\n",
            "Requirement already satisfied: typer<1.0,>=0.12 in /usr/local/lib/python3.11/dist-packages (from gradio) (0.16.0)\n",
            "Requirement already satisfied: uvicorn>=0.14.0 in /usr/local/lib/python3.11/dist-packages (from gradio) (0.34.3)\n",
            "Requirement already satisfied: fsspec in /usr/local/lib/python3.11/dist-packages (from gradio-client==1.10.1->gradio) (2025.3.2)\n",
            "Requirement already satisfied: websockets<16.0,>=10.0 in /usr/local/lib/python3.11/dist-packages (from gradio-client==1.10.1->gradio) (15.0.1)\n",
            "Requirement already satisfied: charset-normalizer<4,>=2 in /usr/local/lib/python3.11/dist-packages (from requests) (3.4.2)\n",
            "Requirement already satisfied: idna<4,>=2.5 in /usr/local/lib/python3.11/dist-packages (from requests) (3.10)\n",
            "Requirement already satisfied: urllib3<3,>=1.21.1 in /usr/local/lib/python3.11/dist-packages (from requests) (2.4.0)\n",
            "Requirement already satisfied: certifi>=2017.4.17 in /usr/local/lib/python3.11/dist-packages (from requests) (2025.4.26)\n",
            "Collecting click<8.2,>=7.1 (from gTTS)\n",
            "  Downloading click-8.1.8-py3-none-any.whl.metadata (2.3 kB)\n",
            "Requirement already satisfied: httpcore==1.* in /usr/local/lib/python3.11/dist-packages (from httpx<1,>=0.23.0->openai) (1.0.9)\n",
            "Requirement already satisfied: h11>=0.16 in /usr/local/lib/python3.11/dist-packages (from httpcore==1.*->httpx<1,>=0.23.0->openai) (0.16.0)\n",
            "Requirement already satisfied: filelock in /usr/local/lib/python3.11/dist-packages (from huggingface-hub>=0.28.1->gradio) (3.18.0)\n",
            "Requirement already satisfied: hf-xet<2.0.0,>=1.1.2 in /usr/local/lib/python3.11/dist-packages (from huggingface-hub>=0.28.1->gradio) (1.1.3)\n",
            "Requirement already satisfied: python-dateutil>=2.8.2 in /usr/local/lib/python3.11/dist-packages (from pandas<3.0,>=1.0->gradio) (2.9.0.post0)\n",
            "Requirement already satisfied: pytz>=2020.1 in /usr/local/lib/python3.11/dist-packages (from pandas<3.0,>=1.0->gradio) (2025.2)\n",
            "Requirement already satisfied: tzdata>=2022.7 in /usr/local/lib/python3.11/dist-packages (from pandas<3.0,>=1.0->gradio) (2025.2)\n",
            "Requirement already satisfied: annotated-types>=0.6.0 in /usr/local/lib/python3.11/dist-packages (from pydantic<3,>=1.9.0->openai) (0.7.0)\n",
            "Requirement already satisfied: pydantic-core==2.33.2 in /usr/local/lib/python3.11/dist-packages (from pydantic<3,>=1.9.0->openai) (2.33.2)\n",
            "Requirement already satisfied: typing-inspection>=0.4.0 in /usr/local/lib/python3.11/dist-packages (from pydantic<3,>=1.9.0->openai) (0.4.1)\n",
            "Requirement already satisfied: shellingham>=1.3.0 in /usr/local/lib/python3.11/dist-packages (from typer<1.0,>=0.12->gradio) (1.5.4)\n",
            "Requirement already satisfied: rich>=10.11.0 in /usr/local/lib/python3.11/dist-packages (from typer<1.0,>=0.12->gradio) (13.9.4)\n",
            "Requirement already satisfied: six>=1.5 in /usr/local/lib/python3.11/dist-packages (from python-dateutil>=2.8.2->pandas<3.0,>=1.0->gradio) (1.17.0)\n",
            "Requirement already satisfied: markdown-it-py>=2.2.0 in /usr/local/lib/python3.11/dist-packages (from rich>=10.11.0->typer<1.0,>=0.12->gradio) (3.0.0)\n",
            "Requirement already satisfied: pygments<3.0.0,>=2.13.0 in /usr/local/lib/python3.11/dist-packages (from rich>=10.11.0->typer<1.0,>=0.12->gradio) (2.19.1)\n",
            "Requirement already satisfied: mdurl~=0.1 in /usr/local/lib/python3.11/dist-packages (from markdown-it-py>=2.2.0->rich>=10.11.0->typer<1.0,>=0.12->gradio) (0.1.2)\n",
            "Downloading gTTS-2.5.4-py3-none-any.whl (29 kB)\n",
            "Downloading click-8.1.8-py3-none-any.whl (98 kB)\n",
            "\u001b[2K   \u001b[90m━━━━━━━━━━━━━━━━━━━━━━━━━━━━━━━━━━━━━━━━\u001b[0m \u001b[32m98.2/98.2 kB\u001b[0m \u001b[31m5.3 MB/s\u001b[0m eta \u001b[36m0:00:00\u001b[0m\n",
            "\u001b[?25hBuilding wheels for collected packages: fpdf\n",
            "  Building wheel for fpdf (setup.py) ... \u001b[?25l\u001b[?25hdone\n",
            "  Created wheel for fpdf: filename=fpdf-1.7.2-py2.py3-none-any.whl size=40704 sha256=674bd57f0781ac092d33f42e6f3569d582f068bf192074a677ed9c6700db771a\n",
            "  Stored in directory: /root/.cache/pip/wheels/65/4f/66/bbda9866da446a72e206d6484cd97381cbc7859a7068541c36\n",
            "Successfully built fpdf\n",
            "Installing collected packages: fpdf, click, gTTS\n",
            "  Attempting uninstall: click\n",
            "    Found existing installation: click 8.2.1\n",
            "    Uninstalling click-8.2.1:\n",
            "      Successfully uninstalled click-8.2.1\n",
            "Successfully installed click-8.1.8 fpdf-1.7.2 gTTS-2.5.4\n"
          ]
        }
      ],
      "source": [
        "!pip install openai gradio requests pillow fpdf gTTS"
      ]
    },
    {
      "cell_type": "code",
      "source": [
        "!pip uninstall -y openai\n",
        "!pip install openai==0.28"
      ],
      "metadata": {
        "colab": {
          "base_uri": "https://localhost:8080/"
        },
        "id": "lx6wu-MmLjFR",
        "outputId": "dfd40d05-55cc-4a92-a8bf-4f0ff8a9e97a"
      },
      "execution_count": null,
      "outputs": [
        {
          "output_type": "stream",
          "name": "stdout",
          "text": [
            "Found existing installation: openai 1.86.0\n",
            "Uninstalling openai-1.86.0:\n",
            "  Successfully uninstalled openai-1.86.0\n",
            "Collecting openai==0.28\n",
            "  Downloading openai-0.28.0-py3-none-any.whl.metadata (13 kB)\n",
            "Requirement already satisfied: requests>=2.20 in /usr/local/lib/python3.11/dist-packages (from openai==0.28) (2.32.3)\n",
            "Requirement already satisfied: tqdm in /usr/local/lib/python3.11/dist-packages (from openai==0.28) (4.67.1)\n",
            "Requirement already satisfied: aiohttp in /usr/local/lib/python3.11/dist-packages (from openai==0.28) (3.11.15)\n",
            "Requirement already satisfied: charset-normalizer<4,>=2 in /usr/local/lib/python3.11/dist-packages (from requests>=2.20->openai==0.28) (3.4.2)\n",
            "Requirement already satisfied: idna<4,>=2.5 in /usr/local/lib/python3.11/dist-packages (from requests>=2.20->openai==0.28) (3.10)\n",
            "Requirement already satisfied: urllib3<3,>=1.21.1 in /usr/local/lib/python3.11/dist-packages (from requests>=2.20->openai==0.28) (2.4.0)\n",
            "Requirement already satisfied: certifi>=2017.4.17 in /usr/local/lib/python3.11/dist-packages (from requests>=2.20->openai==0.28) (2025.4.26)\n",
            "Requirement already satisfied: aiohappyeyeballs>=2.3.0 in /usr/local/lib/python3.11/dist-packages (from aiohttp->openai==0.28) (2.6.1)\n",
            "Requirement already satisfied: aiosignal>=1.1.2 in /usr/local/lib/python3.11/dist-packages (from aiohttp->openai==0.28) (1.3.2)\n",
            "Requirement already satisfied: attrs>=17.3.0 in /usr/local/lib/python3.11/dist-packages (from aiohttp->openai==0.28) (25.3.0)\n",
            "Requirement already satisfied: frozenlist>=1.1.1 in /usr/local/lib/python3.11/dist-packages (from aiohttp->openai==0.28) (1.7.0)\n",
            "Requirement already satisfied: multidict<7.0,>=4.5 in /usr/local/lib/python3.11/dist-packages (from aiohttp->openai==0.28) (6.4.4)\n",
            "Requirement already satisfied: propcache>=0.2.0 in /usr/local/lib/python3.11/dist-packages (from aiohttp->openai==0.28) (0.3.2)\n",
            "Requirement already satisfied: yarl<2.0,>=1.17.0 in /usr/local/lib/python3.11/dist-packages (from aiohttp->openai==0.28) (1.20.1)\n",
            "Downloading openai-0.28.0-py3-none-any.whl (76 kB)\n",
            "\u001b[2K   \u001b[90m━━━━━━━━━━━━━━━━━━━━━━━━━━━━━━━━━━━━━━━━\u001b[0m \u001b[32m76.5/76.5 kB\u001b[0m \u001b[31m5.4 MB/s\u001b[0m eta \u001b[36m0:00:00\u001b[0m\n",
            "\u001b[?25hInstalling collected packages: openai\n",
            "Successfully installed openai-0.28.0\n"
          ]
        }
      ]
    },
    {
      "cell_type": "code",
      "source": [
        "import openai\n",
        "import requests\n",
        "import gradio as gr\n",
        "from PIL import Image, ImageDraw, ImageFont\n",
        "from io import BytesIO\n",
        "from fpdf import FPDF\n",
        "from gtts import gTTS\n",
        "import tempfile\n",
        "\n",
        "GROQ_API_KEY = \"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\"\n",
        "UNSPLASH_ACCESS_KEY = \"YiUpa-8y2KlPaMxUwPDvma5MJZZ6oc5S-pFvxQLQWO8\"\n",
        "\n",
        "# Setting up Groq (OpenAI-compatible)\n",
        "openai.api_key = GROQ_API_KEY\n",
        "openai.api_base = \"https://api.groq.com/openai/v1\"\n"
      ],
      "metadata": {
        "id": "2AyxgrCRvqH2"
      },
      "execution_count": null,
      "outputs": []
    },
    {
      "cell_type": "code",
      "source": [
        "def generate_script(prompt, style, characters, num_panels):\n",
        "    try:\n",
        "        char_str = \", \".join(characters)\n",
        "        messages = [\n",
        "            {\"role\": \"system\", \"content\": f\"You are a comic script writer. Write a {num_panels}-panel script in {style} style. Characters: {char_str}. Use Panel 1:, Panel 2: format.\"},\n",
        "            {\"role\": \"user\", \"content\": prompt}\n",
        "        ]\n",
        "        response = openai.ChatCompletion.create(\n",
        "            model=\"llama3-70b-8192\",\n",
        "            messages=messages,\n",
        "            max_tokens=900,\n",
        "            temperature=0.9\n",
        "        )\n",
        "        return response[\"choices\"][0][\"message\"][\"content\"]\n",
        "    except Exception as e:\n",
        "        return f\"⚠️ Error generating script: {str(e)}\"\n"
      ],
      "metadata": {
        "id": "fJG-5jdxK7jU"
      },
      "execution_count": null,
      "outputs": []
    },
    {
      "cell_type": "code",
      "source": [
        "def get_image(prompt):\n",
        "    try:\n",
        "        query = prompt.split()[0]\n",
        "        url = f\"https://api.unsplash.com/photos/random?query={query}&client_id={UNSPLASH_ACCESS_KEY}\"\n",
        "        r = requests.get(url).json()\n",
        "        return r.get(\"urls\", {}).get(\"regular\", \"https://via.placeholder.com/600x400.png?text=No+Image\")\n",
        "    except Exception:\n",
        "        return \"https://via.placeholder.com/600x400.png?text=Image+Error\""
      ],
      "metadata": {
        "id": "p3IrgnT0K_Ct"
      },
      "execution_count": null,
      "outputs": []
    },
    {
      "cell_type": "code",
      "source": [
        "def draw_bubbles(image_url, panel_text):\n",
        "    try:\n",
        "        r = requests.get(image_url)\n",
        "        img = Image.open(BytesIO(r.content)).convert(\"RGBA\")\n",
        "        draw = ImageDraw.Draw(img)\n",
        "        draw.rectangle([(0, 0), img.size], outline=(255, 165, 0), width=10)\n",
        "\n",
        "        font = ImageFont.load_default()\n",
        "        lines = panel_text.split(\"\\n\")\n",
        "        y = 10\n",
        "        for line in lines:\n",
        "            draw.rectangle([(10, y), (590, y+25)], fill=(255, 165, 0, 200))\n",
        "            draw.text((15, y), line[:80], font=font, fill=(0, 0, 0))\n",
        "            y += 30\n",
        "        path = tempfile.mktemp(suffix=\".png\")\n",
        "        img.save(path)\n",
        "        return path\n",
        "    except Exception as e:\n",
        "        print(\"Error drawing bubble:\", e)"
      ],
      "metadata": {
        "id": "mlIrywz_LCQV"
      },
      "execution_count": null,
      "outputs": []
    },
    {
      "cell_type": "code",
      "source": [
        "def text_to_speech(text):\n",
        "    try:\n",
        "        tts = gTTS(text)\n",
        "        audio_path = tempfile.mktemp(suffix=\".mp3\")\n",
        "        tts.save(audio_path)\n",
        "        return audio_path\n",
        "    except Exception:\n",
        "        return None\n"
      ],
      "metadata": {
        "id": "PhmzXT49LFaj"
      },
      "execution_count": null,
      "outputs": []
    },
    {
      "cell_type": "code",
      "source": [
        "def make_pdf(images, script):\n",
        "    try:\n",
        "        pdf = FPDF()\n",
        "        pdf.set_auto_page_break(auto=True)\n",
        "        pdf.set_font(\"Arial\", size=12)\n",
        "        pdf.add_page()\n",
        "        pdf.multi_cell(0, 10, script)\n",
        "        for img_path in images:\n",
        "            pdf.add_page()\n",
        "            pdf.image(img_path, x=10, y=30, w=180)\n",
        "        out_path = tempfile.mktemp(suffix=\".pdf\")\n",
        "        pdf.output(out_path)\n",
        "        return out_path\n",
        "    except Exception:\n",
        "        return None"
      ],
      "metadata": {
        "id": "fxAFlUy2LIYJ"
      },
      "execution_count": null,
      "outputs": []
    },
    {
      "cell_type": "code",
      "source": [
        "def generate_comic(prompt, style, char_input, panels):\n",
        "    try:\n",
        "        characters = [c.strip() for c in char_input.split(\",\") if c.strip()]\n",
        "        if not characters or not prompt:\n",
        "            return \"Characters or prompt missing.\", None, None, None\n",
        "\n",
        "        script = generate_script(prompt, style, characters, panels)\n",
        "        panel_texts = script.split(\"Panel \")[1:]\n",
        "\n",
        "        images = []\n",
        "        for pt in panel_texts[:panels]:\n",
        "            text = pt.split(\":\", 1)[1].strip()\n",
        "            img_url = get_image(prompt)\n",
        "            img_path = draw_bubbles(img_url, text)\n",
        "            images.append(img_path)\n",
        "\n",
        "        audio = text_to_speech(script)\n",
        "        pdf = make_pdf(images, script)\n",
        "\n",
        "        return script, images[0] if images else None, audio, pdf\n",
        "    except Exception as e:\n",
        "        return f\"Error: {str(e)}\", None, None, None"
      ],
      "metadata": {
        "id": "nV4OgzWwLL8A"
      },
      "execution_count": null,
      "outputs": []
    },
    {
      "cell_type": "code",
      "source": [
        "with gr.Blocks(css=\"\"\"\n",
        "    body { background-color: #111; color: #eee; font-family: Comic Sans MS; }\n",
        "\"\"\") as demo:\n",
        "    gr.Markdown(\"<h2 style='text-align: center;'> 🎨 AI Comic Panel Generator</h2>\")\n",
        "    scene = gr.Textbox(label=\"Scene Prompt\", placeholder=\"e.g. A robot meets a wizard\")\n",
        "    style = gr.Dropdown([\"funny\", \"dramatic\", \"sci-fi\", \"romantic\", \"noir\", \"fantasy\", \"superhero\",\n",
        "     \"horror\", \"mystery\", \"slice-of-life\", \"sarcastic\", \"absurdist\",\n",
        "     \"historical\", \"apocalyptic\", \"western\", \"cyberpunk\", \"steampunk\",\n",
        "     \"wholesome\", \"anime\", \"chibi\", \"retro\", \"minimalist\"], value=\"funny\", label=\"Comic Style\")\n",
        "    characters = gr.Textbox(label=\"Characters (comma-separated)\", placeholder=\"e.g. Max, Luna\")\n",
        "    panels = gr.Slider(1, 10, step=1, label=\"Number of Panels\", value=2)\n",
        "    btn = gr.Button(\"Generate Comic\")\n",
        "\n",
        "    out_script = gr.Textbox(label=\"Comic Script\", lines=10)\n",
        "    out_img = gr.Image(label=\"First Panel Image\")\n",
        "    out_audio = gr.Audio(label=\"Voice Narration\")\n",
        "    out_pdf = gr.File(label=\"Download PDF\")\n",
        "\n",
        "    btn.click(fn=generate_comic,\n",
        "              inputs=[scene, style, characters, panels],\n",
        "              outputs=[out_script, out_img, out_audio, out_pdf])\n",
        "\n",
        "demo.launch()"
      ],
      "metadata": {
        "colab": {
          "base_uri": "https://localhost:8080/",
          "height": 648
        },
        "id": "bQeA7kRbLO-S",
        "outputId": "116d7909-d7ac-436d-e15a-e4710a667f1d"
      },
      "execution_count": null,
      "outputs": [
        {
          "output_type": "stream",
          "name": "stdout",
          "text": [
            "It looks like you are running Gradio on a hosted a Jupyter notebook. For the Gradio app to work, sharing must be enabled. Automatically setting `share=True` (you can turn this off by setting `share=False` in `launch()` explicitly).\n",
            "\n",
            "Colab notebook detected. To show errors in colab notebook, set debug=True in launch()\n",
            "* Running on public URL: https://b4db9d01059a29b9e2.gradio.live\n",
            "\n",
            "This share link expires in 1 week. For free permanent hosting and GPU upgrades, run `gradio deploy` from the terminal in the working directory to deploy to Hugging Face Spaces (https://huggingface.co/spaces)\n"
          ]
        },
        {
          "output_type": "display_data",
          "data": {
            "text/plain": [
              "<IPython.core.display.HTML object>"
            ],
            "text/html": [
              "<div><iframe src=\"https://b4db9d01059a29b9e2.gradio.live\" width=\"100%\" height=\"500\" allow=\"autoplay; camera; microphone; clipboard-read; clipboard-write;\" frameborder=\"0\" allowfullscreen></iframe></div>"
            ]
          },
          "metadata": {}
        },
        {
          "output_type": "execute_result",
          "data": {
            "text/plain": []
          },
          "metadata": {},
          "execution_count": 19
        }
      ]
    }
  ]
}